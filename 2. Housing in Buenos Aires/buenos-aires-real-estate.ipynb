{
  "nbformat": 4,
  "nbformat_minor": 0,
  "metadata": {
    "colab": {
      "provenance": []
    },
    "kernelspec": {
      "name": "python3",
      "display_name": "Python 3"
    },
    "language_info": {
      "name": "python"
    }
  },
  "cells": [
    {
      "cell_type": "code",
      "execution_count": 4,
      "metadata": {
        "id": "ZViR9MTCkLtr"
      },
      "outputs": [],
      "source": [
        "# Import libraries here\n",
        "import warnings\n",
        "from glob import glob\n",
        "import plotly.express as px\n",
        "import pandas as pd\n",
        "import seaborn as sns\n",
        "\n",
        "import matplotlib.pyplot as plt\n",
        "from category_encoders import OneHotEncoder\n",
        "from IPython.display import VimeoVideo\n",
        "from ipywidgets import Dropdown, FloatSlider, IntSlider, interact\n",
        "from sklearn.impute import SimpleImputer\n",
        "from sklearn.linear_model import LinearRegression, Ridge  # noqa F401\n",
        "from sklearn.metrics import mean_absolute_error\n",
        "from sklearn.pipeline import make_pipeline\n",
        "from sklearn.utils.validation import check_is_fitted"
      ]
    },
    {
      "cell_type": "code",
      "source": [
        "# Wrangle function:\n",
        "# read in a csv file\n",
        "# apartments in <cityName> < $100000\n",
        "# remove outliers\n",
        "# separate columns\n",
        "# create new columns from existing\n",
        "# take care of highly null columns\n",
        "# low and high cardinality\n",
        "# Leakage\n",
        "# multicolinearity\n",
        "\n",
        "def wrangle(filepath):\n",
        "    # Read CSV file\n",
        "    df = pd.read_csv(filepath)\n",
        "\n",
        "    # Subset data: Apartments in <cityName>, less than 100,000\n",
        "    mask_ba = df[\"place_with_parent_names\"].str.contains('Distrito Federal')\n",
        "    mask_apt = df[\"property_type\"] == \"apartment\"\n",
        "    mask_price = df[\"price_aprox_usd\"] < 100_000\n",
        "    df = df[mask_ba & mask_apt & mask_price]\n",
        "\n",
        "    # Subset data: Remove outliers for \"surface_covered_in_m2\"\n",
        "    low, high = df[\"surface_covered_in_m2\"].quantile([0.1, 0.9])\n",
        "    mask_area = df[\"surface_covered_in_m2\"].between(low, high)\n",
        "    df = df[mask_area]\n",
        "\n",
        "    # split lat-lon column\n",
        "    df[[\"lat\", \"lon\"]] = df[\"lat-lon\"].str.split(\",\", expand=True).astype(float)\n",
        "    df.drop(columns=\"lat-lon\", inplace=True)\n",
        "\n",
        "    # Extract newColumnName\n",
        "    df['borough'] = df[\"place_with_parent_names\"].str.split(\"|\", expand=True)[1]\n",
        "    df.drop(columns=\"place_with_parent_names\", inplace=True)\n",
        "\n",
        "    # Drop feature with high null count\n",
        "    df.drop(columns=[\"surface_total_in_m2\", \"price_usd_per_m2\", \"floor\", \"rooms\", \"expenses\"], inplace=True)\n",
        "\n",
        "    # Drop low- and high- categorical variables\n",
        "    df.drop(columns=[\"operation\", \"property_type\", \"currency\", \"properati_url\"], inplace=True)\n",
        "\n",
        "    # Drop leaky columns\n",
        "    df.drop(columns=[\"price\", \"price_aprox_local_currency\", \"price_per_m2\"], inplace=True)\n",
        "\n",
        "    # Drop columns with multi-colinerlity\n",
        "    #df.drop(columns=[\"surface_total_in_m2\", \"rooms\"], inplace=True)\n",
        "\n",
        "    return df\n"
      ],
      "metadata": {
        "id": "6MSfUU6KkjZh"
      },
      "execution_count": 5,
      "outputs": []
    },
    {
      "cell_type": "code",
      "source": [
        "# Use this cell to test your wrangle function and explore the data\n",
        "\n",
        "# df =pd.read_csv(\"data/mexico-city-real-estate-1.csv\")\n",
        "# df\n",
        "df= wrangle(\"data/mexico-city-real-estate-1.csv\")\n",
        "df"
      ],
      "metadata": {
        "id": "L-7jy7HYkTYw"
      },
      "execution_count": 8,
      "outputs": []
    },
    {
      "cell_type": "code",
      "source": [
        "frames = [wrangle(file) for file in files]\n",
        "df = pd.concat(frames , ignore_index=True)\n",
        "print(df.info())\n",
        "df.head()"
      ],
      "metadata": {
        "id": "SaZ3F2yIl_ga"
      },
      "execution_count": null,
      "outputs": []
    },
    {
      "cell_type": "code",
      "source": [
        "# Build histogram\n",
        "plt.hist(df['price_aprox_usd'])\n",
        "\n",
        "# Label axes\n",
        "plt.xlabel('Price [$]')\n",
        "plt.ylabel('Count')\n",
        "# Add title\n",
        "plt.title('Distribution of Apartment Prices')\n",
        "\n",
        "# Don't delete the code below 👇\n",
        "plt.savefig(\"images/2-5-4.png\", dpi=150)\n"
      ],
      "metadata": {
        "id": "aNF1X8GbmtTj"
      },
      "execution_count": null,
      "outputs": []
    },
    {
      "cell_type": "code",
      "source": [
        "import matplotlib.pyplot as plt\n",
        "\n",
        "# Build scatter plot\n",
        "plt.scatter(x=df[\"surface_covered_in_m2\"], y=df[\"price_aprox_usd\"])\n",
        "\n",
        "# Label axes\n",
        "plt.xlabel('Area [sq meters]')\n",
        "plt.ylabel('Price [USD]')\n",
        "\n",
        "# Add title\n",
        "plt.title('Mexico City: Price vs. Area')\n",
        "\n",
        "\n",
        "\n",
        "# Show plot\n",
        "plt.show()\n"
      ],
      "metadata": {
        "id": "qtXg3ZDNmvhD"
      },
      "execution_count": null,
      "outputs": []
    },
    {
      "cell_type": "code",
      "source": [
        "df.head()"
      ],
      "metadata": {
        "id": "Zd_hzKQymxrU"
      },
      "execution_count": null,
      "outputs": []
    },
    {
      "cell_type": "code",
      "source": [
        "# Split data into feature matrix `X_train` and target vector `y_train`.\n",
        "# splitting data into feature matrix and target vector\n",
        "\n",
        "target = \"price_aprox_usd\"  # <--- vector\n",
        "features = [\"surface_covered_in_m2\", \"lat\", \"lon\", \"borough\"]   # <--- matrix\n",
        "X_train = df[features]  # training data\n",
        "y_train = df[target]    # \" \" \" \"\n",
        "\n",
        "# The vector is what we are trying to predict using the matrix\n",
        "# In this case we are trying to predict the price of a property\n",
        "# using the features in the matrix"
      ],
      "metadata": {
        "id": "0dyiEaUhmz5_"
      },
      "execution_count": null,
      "outputs": []
    },
    {
      "cell_type": "code",
      "source": [
        "y_mean = y_train.mean()\n",
        "y_pred_baseline = [y_mean] * len(y_train)\n",
        "baseline_mae =  mean_absolute_error(y_train, y_pred_baseline)\n",
        "print(\"Mean apt price:\", y_mean)\n",
        "print(\"Baseline MAE:\", baseline_mae)"
      ],
      "metadata": {
        "id": "E8511sXBm2U1"
      },
      "execution_count": null,
      "outputs": []
    },
    {
      "cell_type": "code",
      "source": [
        "model = make_pipeline(\n",
        "    OneHotEncoder(use_cat_names=True),\n",
        "    SimpleImputer(),\n",
        "    Ridge()\n",
        ")\n",
        "\n",
        "# fit...\n",
        "model.fit(X_train, y_train)"
      ],
      "metadata": {
        "id": "P2loUqdTm37S"
      },
      "execution_count": null,
      "outputs": []
    },
    {
      "cell_type": "code",
      "source": [
        "from sklearn.pipeline import make_pipeline\n",
        "from sklearn.impute import SimpleImputer\n",
        "from sklearn.linear_model import Ridge\n",
        "from category_encoders import OneHotEncoder\n",
        "\n",
        "# Fit the model on training data\n",
        "model.fit(X_train, y_train)\n",
        "\n",
        "# Read the CSV file for test features\n",
        "X_test = pd.read_csv(\"data/mexico-city-test-features.csv\")\n",
        "\n",
        "# Ensure X_test has the same column order as X_train\n",
        "X_test = X_test[X_train.columns]\n",
        "\n",
        "# Predict using the trained model\n",
        "y_pred = model.predict(X_test)\n",
        "\n",
        "# Display information about X_test\n",
        "print(X_test.info())\n",
        "X_test.head()\n"
      ],
      "metadata": {
        "id": "v_Ody7Pam5l7"
      },
      "execution_count": null,
      "outputs": []
    },
    {
      "cell_type": "code",
      "source": [
        "y_test_pred = pd.Series(model.predict(X_test))\n",
        "y_test_pred.head()\n",
        "\n"
      ],
      "metadata": {
        "id": "fTAtUcG_m7SP"
      },
      "execution_count": null,
      "outputs": []
    },
    {
      "cell_type": "code",
      "source": [
        "intercept = model.named_steps[\"ridge\"].intercept_\n",
        "\n",
        "# retrieve coefficients\n",
        "coefficients = model.named_steps[\"ridge\"].coef_\n",
        "\n",
        "# retrieve names\n",
        "features = model.named_steps[\"onehotencoder\"].get_feature_names()\n",
        "\n",
        "# create a series of names and values\n",
        "feat_imp = pd.Series(coefficients, index=features)\n",
        "feat_imp\n"
      ],
      "metadata": {
        "id": "yp94HrK_m8_v"
      },
      "execution_count": null,
      "outputs": []
    },
    {
      "cell_type": "code",
      "source": [
        "# Build bar chart\n",
        "feat_imp.sort_values(key=abs).tail(10).plot(kind = 'barh')\n",
        "\n",
        "# Label axes\n",
        "plt.xlabel('Importance [USD]')\n",
        "plt.ylabel('Feature')\n",
        "# Add title\n",
        "plt.title('Feature Importances for Apartment Price')\n",
        "\n",
        "# Don't delete the code below 👇\n",
        "plt.savefig(\"images/2-5-13.png\", dpi=150)\n"
      ],
      "metadata": {
        "id": "Q3H8yVd-m-fl"
      },
      "execution_count": null,
      "outputs": []
    }
  ]
}